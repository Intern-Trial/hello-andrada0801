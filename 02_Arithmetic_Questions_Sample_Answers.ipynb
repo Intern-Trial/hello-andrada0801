{
  "nbformat": 4,
  "nbformat_minor": 0,
  "metadata": {
    "kernelspec": {
      "display_name": "Python 3",
      "language": "python",
      "name": "python3"
    },
    "language_info": {
      "codemirror_mode": {
        "name": "ipython",
        "version": 3
      },
      "file_extension": ".py",
      "mimetype": "text/x-python",
      "name": "python",
      "nbconvert_exporter": "python",
      "pygments_lexer": "ipython3",
      "version": "3.7.4"
    },
    "colab": {
      "name": "02_Arithmetic_Questions (1).ipynb",
      "provenance": []
    }
  },
  "cells": [
    {
      "cell_type": "markdown",
      "metadata": {
        "id": "fiN2VZ21yPxP",
        "colab_type": "text"
      },
      "source": [
        "# Worksheet 1"
      ]
    },
    {
      "cell_type": "markdown",
      "metadata": {
        "id": "CFwwLZISyPxR",
        "colab_type": "text"
      },
      "source": [
        "## Question 1\n",
        "Calculate the following:\n",
        "$$ 2.5^{3.5 + 12.9}$$\n",
        "$$ 2^{(2^2)}$$"
      ]
    },
    {
      "cell_type": "code",
      "metadata": {
        "jupyter": {
          "outputs_hidden": false
        },
        "id": "l3zIxlojyPxT",
        "colab_type": "code",
        "colab": {},
        "outputId": "ad849992-ea52-4a6b-fc93-0e9c85794b7d"
      },
      "source": [
        "# Remember that ** is the symbol for power (See notes for all basic operations).\n",
        "# Python follows the principles of BODMAS, so remember to include brackets where required!\n",
        "\n",
        "x = 2.5**(3.5+12.9) \n",
        "y = 2**(2**2)\n",
        "\n",
        "# Once you have calculated the correct answer, use print to output your answer.\n",
        "print(\"x =\", x)\n",
        "print(\"y =\", y)"
      ],
      "execution_count": null,
      "outputs": [
        {
          "output_type": "stream",
          "text": [
            "x = 3359047.4769175323\n",
            "y = 16\n"
          ],
          "name": "stdout"
        }
      ]
    },
    {
      "cell_type": "markdown",
      "metadata": {
        "id": "_sI9eJBIyPxZ",
        "colab_type": "text"
      },
      "source": [
        "## Question 2\n",
        "In chemistry, the Hill equation relates the reaction rate $V$ to substrate concentration $[S]$:\n",
        "$$ V = \\frac{V_\\mathrm{max}[S]^n}{K_\\mathrm{half}^n + [S]^n}$$.\n",
        "Calculate the reaction rate (in mol/s) given $[S] = 3.4 \\times 10^{-5}~\\mathrm{mol}, V_\\mathrm{max} = 4.9\\times10^{-7}~\\mathrm{mol/s}, K_\\mathrm{half} = 1.0 \\times10^{-6}~\\mathrm{mol}$ and $n=3$."
      ]
    },
    {
      "cell_type": "code",
      "metadata": {
        "jupyter": {
          "outputs_hidden": false
        },
        "id": "C0yQmUIJyPxa",
        "colab_type": "code",
        "colab": {
          "base_uri": "https://localhost:8080/",
          "height": 34
        },
        "outputId": "96e1e74b-d6b9-40f1-a6c4-62cf925d5011"
      },
      "source": [
        "# Remember that ** is the symbol for power.\n",
        "\n",
        "# Firstly, you should define the variables as the numbers given in the question above.\n",
        "V_max = 4.9*10**(-7)\n",
        "S = 3.4*10**(-5)\n",
        "K_half = 1*10**(-6)\n",
        "n = 3\n",
        "\n",
        "# Now you have defined your variables, you can calculate the answer (See notes for basic operation).\n",
        "V = (V_max*S**n) / (K_half**n + S**n) # Remember that the denominator and the numerator need to be in their own separate brackets.\n",
        "\n",
        "# Once you have calculated the correct answer, use print to output your answer.\n",
        "print(\"V =\", V)"
      ],
      "execution_count": 1,
      "outputs": [
        {
          "output_type": "stream",
          "text": [
            "V = 4.89987533392698e-07\n"
          ],
          "name": "stdout"
        }
      ]
    },
    {
      "cell_type": "markdown",
      "metadata": {
        "id": "z6u0JYIgyPxf",
        "colab_type": "text"
      },
      "source": [
        "## Question 3\n",
        "A sheet of A4 paper has dimensions 210 × 297 mm. Calculate its area, perimeter and length of diagonal. Print the results as follows:\n",
        "\n",
        "    Area: XX mm squared\n",
        "    Perimeter: XX mm\n",
        "    Diagonal: XX mm\n",
        "\n"
      ]
    },
    {
      "cell_type": "code",
      "metadata": {
        "jupyter": {
          "outputs_hidden": false
        },
        "id": "xsRGl5qPyPxg",
        "colab_type": "code",
        "colab": {
          "base_uri": "https://localhost:8080/",
          "height": 68
        },
        "outputId": "4137c2c2-db8e-4d03-e108-db7b96812aee"
      },
      "source": [
        "# Firstly, you should define the variables as the numbers given in the question above.\n",
        "width = 210\n",
        "length = 297\n",
        "\n",
        "# Now you have defined your variables, you can calculate the answer. (See notes for basic operations if you are struggling)\n",
        "\n",
        "Area = width*length\n",
        "Perimeter = width*2 + length * 2\n",
        "Diagonal = (Perimeter**2 + Area**2)**0.5\n",
        "\n",
        "# Once you have calculated your answers, use print to output your answers. Remember to print your answers in the desired format.\n",
        "print(\"Area:\", Area, \"mm squared\")\n",
        "print(\"Perimeter:\", Perimeter, \"mm\")\n",
        "print(\"Diagonal:\", Diagonal, \"mm\")"
      ],
      "execution_count": 3,
      "outputs": [
        {
          "output_type": "stream",
          "text": [
            "Area: 62370 mm squared\n",
            "Perimeter: 1014 mm\n",
            "Diagonal: 62378.24216824325 mm\n"
          ],
          "name": "stdout"
        }
      ]
    },
    {
      "cell_type": "markdown",
      "metadata": {
        "id": "r5M1J4hXyPxj",
        "colab_type": "text"
      },
      "source": [
        "## Question 4\n",
        "The first day of 2021 is a Tuesday. Use the `%` operator to work out which day of the week the last day of 2020 is. (Hint: divide the the number of days in the year by 7)."
      ]
    },
    {
      "cell_type": "code",
      "metadata": {
        "id": "sxjXODHHyPxk",
        "colab_type": "code",
        "colab": {},
        "outputId": "658d5257-dfdd-4f71-b124-42680f74b6ef"
      },
      "source": [
        "# It should be obvious that there are 365 days in a year and 7 days in a week. This will mean (obviously) that every 7 days, the days of the week repeat.\n",
        "# Consequently, we do not need to worry about how many days there are in a year, only how many days do not fit neatly into a week. \n",
        "# Hence, we should use the % function (division returning the remainder) to work this out.\n",
        "# We can then add the remainder as a number of days to the end of the week (Remembering that the week runs from Friday to Thursday as the first day of 2021 is a Friday).\n",
        "\n",
        "d = 365%7\n",
        "print (\"d =\", d)\n",
        "\n",
        "# A remainder of 1 tells us that we need to add one day onto the end of our week (which is a Thursday) to get the last day of 2021.\n",
        "# Hence the last day of 2021 is the day after Thursday which is a Friday."
      ],
      "execution_count": null,
      "outputs": [
        {
          "output_type": "stream",
          "text": [
            "d = 1\n"
          ],
          "name": "stdout"
        }
      ]
    },
    {
      "cell_type": "markdown",
      "metadata": {
        "id": "o8XZUAXZyPxr",
        "colab_type": "text"
      },
      "source": [
        "## Question 5\n",
        "\n",
        "A time `t` in seconds can be converted to days, hours, minutes and seconds using integer division:\n",
        "\n",
        "1. Divide `t` by 60; set `t` to the quotient and call the remainder `s`.\n",
        "1. Divide `t` by 60; set `t` to the quotient and call the remainder `m`.\n",
        "1. Divide `t` by 24; set `d` to the quotient and call the remainder `h`.\n",
        "\n",
        "Calculate the number of days, hours, minutes and seconds in one million seconds. Display the result as follows:\n",
        "\n",
        "    1000000 seconds is xx days H:M:S\n",
        "\n"
      ]
    },
    {
      "cell_type": "code",
      "metadata": {
        "jupyter": {
          "outputs_hidden": false
        },
        "id": "UWK9BoNOyPxs",
        "colab_type": "code",
        "colab": {
          "base_uri": "https://localhost:8080/",
          "height": 34
        },
        "outputId": "337367d1-21c5-4e40-e919-09c18ecd0a53"
      },
      "source": [
        "# Remember % is division returning the remainder\n",
        "# Remember // is division without the remainder\n",
        "\n",
        "# First thing to do is define our variables.\n",
        "t = 1000000\n",
        "t_orig = t\n",
        "\n",
        "s = t % 60 # Here the % function is used to work out how many seconds do not fit into a whole number of minutes. (40 seconds)\n",
        "t = t // 60 # The // function here tells us how many full minutes (without the remainder) are in 1000000 seconds. Note: There are 16666 full minutes in 1000000 seconds.\n",
        "\n",
        "m = t % 60 # Again, the % function is used to work out how many minutes do not fit into a whole number of hours. (46 minutes)\n",
        "t = t // 60 # The // function tells us how many full hours there are in 16666 minutes. Note: There are 277 full hours in 16666 minutes.\n",
        "\n",
        "h = t % 24 # Once again the % function is used to work out how many hours do not fit into a whole number of days. (13 hours)\n",
        "d = t // 24 # The // function tells us how many full days are in 277 hours. Note: There are 11 full days in 277 hours.\n",
        "\n",
        "# Remember that print can be used with different data types (Here we are printing both a string and an integer). Also, remember to print the result in the desired format above.\n",
        "print(t_orig, \"seconds is\", d, \"days\", h, \":\", m, \":\", s)\n"
      ],
      "execution_count": 4,
      "outputs": [
        {
          "output_type": "stream",
          "text": [
            "1000000 seconds is 11 days 13 : 46 : 40\n"
          ],
          "name": "stdout"
        }
      ]
    },
    {
      "cell_type": "markdown",
      "metadata": {
        "id": "KTUgGdTtyPxv",
        "colab_type": "text"
      },
      "source": [
        "## Question 6\n"
      ]
    }
  ]
}